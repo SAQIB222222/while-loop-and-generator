{
 "cells": [
  {
   "cell_type": "markdown",
   "id": "783538e7-8048-406a-83cb-665818d53aba",
   "metadata": {},
   "source": [
    "Q1. Which keyword is used to create a function? Create a function to return a list of odd numbers in the\n",
    "range of 1 to 25.\n"
   ]
  },
  {
   "cell_type": "code",
   "execution_count": 1,
   "id": "f5f6baf4-f230-4a64-9555-ae3fd32cee44",
   "metadata": {},
   "outputs": [],
   "source": [
    "# def keyword  is used to create a function\n",
    "\n",
    "def odd_num():\n",
    "    result = []\n",
    "    for i in range(1,25):\n",
    "        if i % 2 !=0:\n",
    "            result.append(i)\n",
    "    return result"
   ]
  },
  {
   "cell_type": "code",
   "execution_count": 2,
   "id": "dc65e212-c4d3-4fb1-81ad-4a948fcaca4f",
   "metadata": {},
   "outputs": [
    {
     "data": {
      "text/plain": [
       "[1, 3, 5, 7, 9, 11, 13, 15, 17, 19, 21, 23]"
      ]
     },
     "execution_count": 2,
     "metadata": {},
     "output_type": "execute_result"
    }
   ],
   "source": [
    "odd_num()"
   ]
  },
  {
   "cell_type": "markdown",
   "id": "65cf0e2c-8ae9-4fd6-b80a-953dd02a447b",
   "metadata": {},
   "source": [
    "Q2. Why *args and **kwargs is used in some functions? Create a function each for *args and **kwargs\n",
    "to demonstrate their use.\n"
   ]
  },
  {
   "cell_type": "markdown",
   "id": "b97b8953-1ac3-430e-b09b-29f72a7c69f4",
   "metadata": {},
   "source": [
    "*args is used to pass a variable number of arguments to a function. It allows you to pass an arbitrary number of positional arguments to the function. In the function definition, *args is used to collect all the positional arguments passed to the function as a tuple. Here's an example of a function that uses *args:\n",
    "\n"
   ]
  },
  {
   "cell_type": "code",
   "execution_count": 3,
   "id": "13a729df-b69e-4163-acd4-7804f1a7cc8c",
   "metadata": {},
   "outputs": [],
   "source": [
    "def clas(*args):\n",
    "    return args"
   ]
  },
  {
   "cell_type": "code",
   "execution_count": 4,
   "id": "19bac559-e433-49ec-97de-f13bafc3101a",
   "metadata": {},
   "outputs": [
    {
     "data": {
      "text/plain": [
       "(3, 4, 5, 6)"
      ]
     },
     "execution_count": 4,
     "metadata": {},
     "output_type": "execute_result"
    }
   ],
   "source": [
    "clas(3,4,5,6)"
   ]
  },
  {
   "cell_type": "code",
   "execution_count": 5,
   "id": "d4d31190-d92f-4329-b00e-4bf50ffa7962",
   "metadata": {},
   "outputs": [
    {
     "data": {
      "text/plain": [
       "tuple"
      ]
     },
     "execution_count": 5,
     "metadata": {},
     "output_type": "execute_result"
    }
   ],
   "source": [
    "type(clas())"
   ]
  },
  {
   "cell_type": "markdown",
   "id": "d777f13d-fa14-4572-ad16-bb43d2a5764f",
   "metadata": {},
   "source": [
    "**kwargs is used to pass a variable number of keyword arguments to a function. It allows you to pass an arbitrary number of named arguments to the function. In the function definition, **kwargs is used to collect all the named arguments passed to the function as a dictionary. Here's an example of a function that uses **kwargs:\n",
    "\n",
    "\n"
   ]
  },
  {
   "cell_type": "code",
   "execution_count": 6,
   "id": "40b7a670-96de-4982-bc41-4df4268e4522",
   "metadata": {},
   "outputs": [],
   "source": [
    "def clas2(**kwargs):\n",
    "    return kwargs"
   ]
  },
  {
   "cell_type": "code",
   "execution_count": 7,
   "id": "343d799d-e3c0-4573-aea9-9cf8a4a07c66",
   "metadata": {},
   "outputs": [
    {
     "data": {
      "text/plain": [
       "{'name': 'saqib', 'number': 23456781}"
      ]
     },
     "execution_count": 7,
     "metadata": {},
     "output_type": "execute_result"
    }
   ],
   "source": [
    "clas2(name = 'saqib', number = 23456781)"
   ]
  },
  {
   "cell_type": "code",
   "execution_count": 8,
   "id": "e12ca7cd-141c-4813-a4f2-06e6f9aaaf5e",
   "metadata": {},
   "outputs": [
    {
     "data": {
      "text/plain": [
       "dict"
      ]
     },
     "execution_count": 8,
     "metadata": {},
     "output_type": "execute_result"
    }
   ],
   "source": [
    "type(clas2())"
   ]
  },
  {
   "cell_type": "markdown",
   "id": "6cdf8082-5f21-404e-8fa3-ea225768b80f",
   "metadata": {},
   "source": [
    "Q3. What is an iterator in python? Name the method used to initialise the iterator object and the method\n",
    "used for iteration. Use these methods to print the first five elements of the given list [2, 4, 6, 8, 10, 12, 14,\n",
    "16, 18, 20]\n"
   ]
  },
  {
   "cell_type": "markdown",
   "id": "7c850ed1-4c19-420d-8d71-7430fcda452d",
   "metadata": {},
   "source": [
    "In Python, an iterator is an object that allows you to traverse through a sequence of data, one item at a time. The iterator object can be created by calling the iter() function on a sequence such as a list, tuple, or string.\n",
    "\n",
    "To iterate through the sequence, you can use the next() method on the iterator object. Each time you call next(), it returns the next item in the sequence. When there are no more items left in the sequence, next() raises the StopIteration exception.\n",
    "\n",
    "Here's an example of how to create an iterator for the given list and use it to print the first five elements:\n",
    "\n",
    "python\n"
   ]
  },
  {
   "cell_type": "code",
   "execution_count": 9,
   "id": "4b5f8f7a-b2a8-4a55-9a1b-2dd24c69186f",
   "metadata": {},
   "outputs": [
    {
     "name": "stdout",
     "output_type": "stream",
     "text": [
      "2\n",
      "4\n",
      "6\n",
      "8\n",
      "10\n"
     ]
    }
   ],
   "source": [
    "list = [2, 4, 6, 8, 10, 12, 14, 16, 18, 20]\n",
    "my_int = iter(list)\n",
    " \n",
    "for i in range(5):\n",
    "        print(next(my_int))"
   ]
  },
  {
   "cell_type": "markdown",
   "id": "667e8beb-b1a2-436c-9c16-9e5749f3715c",
   "metadata": {},
   "source": [
    "Q4. What is a generator function in python? Why yield keyword is used? Give an example of a generator\n",
    "function.\n"
   ]
  },
  {
   "cell_type": "markdown",
   "id": "a30096f8-eb4e-4dee-801c-800dc150a593",
   "metadata": {},
   "source": [
    "In Python, a generator function is a special type of function that can be used to generate a sequence of values on the fly, rather than returning them all at once like a regular function. Instead of using the return keyword to return a value, a generator function uses the yield keyword to temporarily suspend execution and return a value to the caller. When the function is called again, it resumes execution from where it left off and continues generating the next value in the sequence.\n",
    "\n",
    "The main advantage of using a generator function is that it can save memory by generating values on the fly, rather than generating them all at once and storing them in memory. This is especially useful when dealing with very large sequences of values that would otherwise consume a lot of memory.\n",
    "\n",
    "Here's an example of a simple generator function \n",
    "\n"
   ]
  },
  {
   "cell_type": "code",
   "execution_count": 51,
   "id": "84c059f6-da53-4c28-9871-59fef3b4e95a",
   "metadata": {},
   "outputs": [],
   "source": [
    "def test():\n",
    "    for i in range(100):\n",
    "        yield i\n",
    "            \n",
    "    "
   ]
  },
  {
   "cell_type": "code",
   "execution_count": 52,
   "id": "16a051e7-76f1-4778-9444-472fc115c09b",
   "metadata": {},
   "outputs": [
    {
     "name": "stdout",
     "output_type": "stream",
     "text": [
      "0\n",
      "1\n",
      "2\n",
      "3\n",
      "4\n",
      "5\n",
      "6\n",
      "7\n",
      "8\n",
      "9\n",
      "10\n",
      "11\n",
      "12\n",
      "13\n",
      "14\n",
      "15\n",
      "16\n",
      "17\n",
      "18\n",
      "19\n",
      "20\n",
      "21\n",
      "22\n",
      "23\n",
      "24\n",
      "25\n",
      "26\n",
      "27\n",
      "28\n",
      "29\n",
      "30\n",
      "31\n",
      "32\n",
      "33\n",
      "34\n",
      "35\n",
      "36\n",
      "37\n",
      "38\n",
      "39\n",
      "40\n",
      "41\n",
      "42\n",
      "43\n",
      "44\n",
      "45\n",
      "46\n",
      "47\n",
      "48\n",
      "49\n",
      "50\n",
      "51\n",
      "52\n",
      "53\n",
      "54\n",
      "55\n",
      "56\n",
      "57\n",
      "58\n",
      "59\n",
      "60\n",
      "61\n",
      "62\n",
      "63\n",
      "64\n",
      "65\n",
      "66\n",
      "67\n",
      "68\n",
      "69\n",
      "70\n",
      "71\n",
      "72\n",
      "73\n",
      "74\n",
      "75\n",
      "76\n",
      "77\n",
      "78\n",
      "79\n",
      "80\n",
      "81\n",
      "82\n",
      "83\n",
      "84\n",
      "85\n",
      "86\n",
      "87\n",
      "88\n",
      "89\n",
      "90\n",
      "91\n",
      "92\n",
      "93\n",
      "94\n",
      "95\n",
      "96\n",
      "97\n",
      "98\n",
      "99\n"
     ]
    }
   ],
   "source": [
    "d = test()\n",
    "for i in d:\n",
    "    print(i)"
   ]
  },
  {
   "cell_type": "code",
   "execution_count": null,
   "id": "e292c763-af0d-43b4-bbcd-7a4c74597f84",
   "metadata": {},
   "outputs": [],
   "source": []
  },
  {
   "cell_type": "code",
   "execution_count": null,
   "id": "5cf07755-10ba-4e26-b1eb-053dd7fef072",
   "metadata": {},
   "outputs": [],
   "source": []
  },
  {
   "cell_type": "markdown",
   "id": "efebddee-e06d-410d-9a9d-107158517be5",
   "metadata": {},
   "source": [
    "Q5. Create a generator function for prime numbers less than 1000. Use the next() method to print the\n",
    "first 20 prime numbers.\n"
   ]
  },
  {
   "cell_type": "code",
   "execution_count": 24,
   "id": "33657378-3266-4e9d-88a6-5cd2f27ed8a2",
   "metadata": {},
   "outputs": [],
   "source": [
    "def primes():\n",
    "    primes_list = [2]\n",
    "    yield 2\n",
    "    \n",
    "    for num in range(3, 1000, 2):\n",
    "        is_prime = True\n",
    "        for prime in primes_list:\n",
    "            if prime * prime > num:\n",
    "                break\n",
    "            if num % prime == 0:\n",
    "                is_prime = False\n",
    "                break\n",
    "        if is_prime:\n",
    "            primes_list.append(num)\n",
    "            yield num\n"
   ]
  },
  {
   "cell_type": "code",
   "execution_count": 25,
   "id": "759ca1cf-9030-4c20-b845-78eb2ef28fe1",
   "metadata": {},
   "outputs": [
    {
     "name": "stdout",
     "output_type": "stream",
     "text": [
      "2\n",
      "3\n",
      "5\n",
      "7\n",
      "11\n",
      "13\n",
      "17\n",
      "19\n",
      "23\n",
      "29\n",
      "31\n",
      "37\n",
      "41\n",
      "43\n",
      "47\n",
      "53\n",
      "59\n",
      "61\n",
      "67\n",
      "71\n"
     ]
    }
   ],
   "source": [
    "generator = primes()\n",
    "\n",
    "for i in range(20):\n",
    "    print(next(generator))\n"
   ]
  },
  {
   "cell_type": "markdown",
   "id": "42f4e46c-1a32-4e1a-a3f1-d03f7a895795",
   "metadata": {},
   "source": [
    "Q6. Write a python program to print the first 10 Fibonacci numbers using a while loop."
   ]
  },
  {
   "cell_type": "code",
   "execution_count": 10,
   "id": "f844b412-6b03-4a70-b386-f20d4e86bc6c",
   "metadata": {},
   "outputs": [
    {
     "name": "stdout",
     "output_type": "stream",
     "text": [
      "0\n",
      "1\n",
      "1\n",
      "2\n",
      "3\n",
      "5\n",
      "8\n",
      "13\n",
      "21\n",
      "34\n"
     ]
    }
   ],
   "source": [
    "\n",
    "a,b = 0,1\n",
    "count = 0\n",
    "while count <10:\n",
    "    print(a)\n",
    "    c = a\n",
    "    a = b\n",
    "    b = a + c\n",
    "    count = count + 1\n"
   ]
  },
  {
   "cell_type": "markdown",
   "id": "a86d130f-f980-4fc6-b133-2a2683c40133",
   "metadata": {},
   "source": [
    "Q7. Write a List Comprehension to iterate through the given string: ‘pwskills’.\n",
    "Expected output: ['p', 'w', 's', 'k', 'i', 'l', 'l', 's']\n"
   ]
  },
  {
   "cell_type": "code",
   "execution_count": 11,
   "id": "1c3f5b17-47d0-4324-8ebb-002ce65f3130",
   "metadata": {},
   "outputs": [],
   "source": [
    "l = 'pwskills'"
   ]
  },
  {
   "cell_type": "code",
   "execution_count": 12,
   "id": "48bcebc6-d892-4677-a142-e8c8df1ac1be",
   "metadata": {},
   "outputs": [
    {
     "data": {
      "text/plain": [
       "['p', 'w', 's', 'k', 'i', 'l', 'l', 's']"
      ]
     },
     "execution_count": 12,
     "metadata": {},
     "output_type": "execute_result"
    }
   ],
   "source": [
    "[i for i in l ]"
   ]
  },
  {
   "cell_type": "markdown",
   "id": "7ea5085c-4344-4e30-b922-094ad4721562",
   "metadata": {},
   "source": [
    "\n",
    "Q8. Write a python program to check whether a given number is Palindrome or not using a while loop."
   ]
  },
  {
   "cell_type": "code",
   "execution_count": 13,
   "id": "4c88769e-569f-421a-91d2-7a4ef01e830f",
   "metadata": {},
   "outputs": [
    {
     "name": "stdin",
     "output_type": "stream",
     "text": [
      "Enter a number:  5\n"
     ]
    },
    {
     "name": "stdout",
     "output_type": "stream",
     "text": [
      "5 is a palindrome number\n"
     ]
    }
   ],
   "source": [
    "num = int(input(\"Enter a number: \"))\n",
    "temp = num\n",
    "rev_num = 0\n",
    "\n",
    "while temp > 0:\n",
    "    digit = temp % 10\n",
    "    rev_num = rev_num * 10 + digit\n",
    "    temp //= 10\n",
    "\n",
    "if num == rev_num:\n",
    "    print(num, \"is a palindrome number\")\n",
    "else:\n",
    "    print(num, \"is not a palindrome number\")\n"
   ]
  },
  {
   "cell_type": "markdown",
   "id": "58837d8c-9331-4d55-9aaa-3e577b2ce021",
   "metadata": {},
   "source": [
    "Q9"
   ]
  },
  {
   "cell_type": "code",
   "execution_count": 14,
   "id": "51b41220-a0fe-4617-8f98-f3599c9c0748",
   "metadata": {},
   "outputs": [
    {
     "data": {
      "text/plain": [
       "[1,\n",
       " 3,\n",
       " 5,\n",
       " 7,\n",
       " 9,\n",
       " 11,\n",
       " 13,\n",
       " 15,\n",
       " 17,\n",
       " 19,\n",
       " 21,\n",
       " 23,\n",
       " 25,\n",
       " 27,\n",
       " 29,\n",
       " 31,\n",
       " 33,\n",
       " 35,\n",
       " 37,\n",
       " 39,\n",
       " 41,\n",
       " 43,\n",
       " 45,\n",
       " 47,\n",
       " 49,\n",
       " 51,\n",
       " 53,\n",
       " 55,\n",
       " 57,\n",
       " 59,\n",
       " 61,\n",
       " 63,\n",
       " 65,\n",
       " 67,\n",
       " 69,\n",
       " 71,\n",
       " 73,\n",
       " 75,\n",
       " 77,\n",
       " 79,\n",
       " 81,\n",
       " 83,\n",
       " 85,\n",
       " 87,\n",
       " 89,\n",
       " 91,\n",
       " 93,\n",
       " 95,\n",
       " 97,\n",
       " 99]"
      ]
     },
     "execution_count": 14,
     "metadata": {},
     "output_type": "execute_result"
    }
   ],
   "source": [
    "[ i for i in range(1,100) if i % 2 != 0]"
   ]
  },
  {
   "cell_type": "code",
   "execution_count": null,
   "id": "c162a21b-f909-4aae-9e5a-e311d417e538",
   "metadata": {},
   "outputs": [],
   "source": []
  }
 ],
 "metadata": {
  "kernelspec": {
   "display_name": "Python 3 (ipykernel)",
   "language": "python",
   "name": "python3"
  },
  "language_info": {
   "codemirror_mode": {
    "name": "ipython",
    "version": 3
   },
   "file_extension": ".py",
   "mimetype": "text/x-python",
   "name": "python",
   "nbconvert_exporter": "python",
   "pygments_lexer": "ipython3",
   "version": "3.10.8"
  }
 },
 "nbformat": 4,
 "nbformat_minor": 5
}
